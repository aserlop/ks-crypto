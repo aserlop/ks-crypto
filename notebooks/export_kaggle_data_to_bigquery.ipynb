{
 "cells": [
  {
   "cell_type": "markdown",
   "metadata": {},
   "source": [
    "# EXPORT KAGGLE DATA TO BIGQUERY"
   ]
  },
  {
   "cell_type": "markdown",
   "metadata": {},
   "source": [
    "## IMPORTS"
   ]
  },
  {
   "cell_type": "code",
   "execution_count": null,
   "metadata": {},
   "outputs": [],
   "source": [
    "import os\n",
    "os.environ['KAGGLE_USERNAME'] = \"\" # KAGGLE USERNAME\n",
    "os.environ['KAGGLE_KEY'] = \"\" # KAGGLE TOKEN\n",
    "!pip install kaggle\n",
    "import kaggle\n",
    "kaggle.api.authenticate()"
   ]
  },
  {
   "cell_type": "code",
   "execution_count": null,
   "metadata": {},
   "outputs": [],
   "source": [
    "import findspark\n",
    "import pandas as pd\n",
    "from ks_crypto.lib.spark_conn import create_yarn_connection\n",
    "from pyspark.sql import functions as F, types as T\n",
    "\n",
    "findspark.init()\n",
    "spark = create_yarn_connection()"
   ]
  },
  {
   "cell_type": "code",
   "execution_count": null,
   "metadata": {},
   "outputs": [],
   "source": [
    "BUCKET_NAME = 'ks-crypto'\n",
    "\n",
    "BASE_PATH = '/home/dat/'\n",
    "\n",
    "FEATURES_FULL_PATH = f\"{BASE_PATH}elliptic_bitcoin_dataset/elliptic_txs_features.csv\"\n",
    "FEATURES_FULL_TABLENAME = \"kschool-crypto:ks_crypto_dataset.anon_address_features\" \n",
    "\n",
    "EDGES_FULL_PATH = f\"{BASE_PATH}elliptic_bitcoin_dataset/elliptic_txs_edgelist.csv\"\n",
    "EDGES_FULL_TABLENAME = \"kschool-crypto:ks_crypto_dataset.anon_transactions_edges\"\n",
    "\n",
    "CLASSES_FULL_PATH = f\"{BASE_PATH}elliptic_bitcoin_dataset/elliptic_txs_classes.csv\"\n",
    "CLASSES_FULL_TABLENAME = \"kschool-crypto:ks_crypto_dataset.anon_address_classes\"\n",
    "\n",
    "DANON_FULL_PATH = f\"{BASE_PATH}Result.csv\"\n",
    "DANON_FULL_TABLENAME = \"kschool-crypto:ks_crypto_dataset.danon_transactions\""
   ]
  },
  {
   "cell_type": "markdown",
   "metadata": {},
   "source": [
    "## 1. DOWNLOAD KAGGLE DATA "
   ]
  },
  {
   "cell_type": "code",
   "execution_count": null,
   "metadata": {},
   "outputs": [],
   "source": [
    "dataset_name='ellipticco/elliptic-data-set'\n",
    "\n",
    "kaggle.api.dataset_download_files(dataset=dataset_name, \n",
    "                                  path=BASE_PATH,\n",
    "                                  unzip=True)\n",
    "\n",
    "dataset_name='alexbenzik/deanonymized-995-pct-of-elliptic-transactions'\n",
    "output_path='./home/dat/'\n",
    "\n",
    "kaggle.api.dataset_download_files(dataset=dataset_name, \n",
    "                                  path=BASE_PATH,\n",
    "                                  unzip=True)"
   ]
  },
  {
   "cell_type": "markdown",
   "metadata": {},
   "source": [
    "## 2. READ DATA"
   ]
  },
  {
   "cell_type": "code",
   "execution_count": null,
   "metadata": {
    "scrolled": false
   },
   "outputs": [],
   "source": [
    "features_pd = \\\n",
    "    pd.read_csv(FEATURES_FULL_PATH, header=None)\n",
    "\n",
    "features_pd.columns = \\\n",
    "    ['anon_address', 'timestep'] + \\\n",
    "    [f'anon_trans_feat_{i}' for i in range(93)] + \\\n",
    "    [f'anon_agg_feat_{i}' for i in range(72)]\n",
    "\n",
    "double_blacklist = ['anon_address', 'timestep']\n",
    "float_col_list = \\\n",
    "    [F.col(col).cast(T.FloatType()).alias(col) for col in features_pd.columns if col not in double_blacklist]\n",
    "\n",
    "features_df = \\\n",
    "    spark.createDataFrame(features_pd)\\\n",
    "    .select(F.col('anon_address').cast('string').alias('anon_address'),\n",
    "            F.col('timestep').cast('int').alias('timestep'),\n",
    "            *float_col_list)\n",
    "\n",
    "features_df.printSchema()"
   ]
  },
  {
   "cell_type": "code",
   "execution_count": null,
   "metadata": {},
   "outputs": [],
   "source": [
    "edges_pd = \\\n",
    "    pd.read_csv(EDGES_FULL_PATH)\\\n",
    "    .rename(columns = {'txId1': 'anon_input_address', \n",
    "                       \"txId2\":'anon_output_address'})\n",
    "\n",
    "edges_df = \\\n",
    "    spark.createDataFrame(edges_pd)\\\n",
    "    .select(F.col('anon_input_address').cast('string').alias('anon_input_address'),\n",
    "            F.col('anon_output_address').cast('string').alias('anon_output_address'))\n",
    "\n",
    "edges_df.printSchema()"
   ]
  },
  {
   "cell_type": "code",
   "execution_count": null,
   "metadata": {},
   "outputs": [],
   "source": [
    "classes_pd = \\\n",
    "    pd.read_csv(CLASSES_FULL_PATH)\\\n",
    "    .rename(columns={'txId': 'anon_transaction_hash', \n",
    "                     'class': 'class'})\n",
    "\n",
    "classes_df = \\\n",
    "    spark.createDataFrame(classes_pd)\\\n",
    "    .select(F.col('anon_transaction_hash').cast('string'), \n",
    "            F.when(F.col('class') == '1', 'illicit')\n",
    "            .when(F.col('class') == '2', 'licit')\n",
    "            .otherwise(F.col('class')).alias('class'))\n",
    "\n",
    "classes_df.printSchema()"
   ]
  },
  {
   "cell_type": "code",
   "execution_count": null,
   "metadata": {},
   "outputs": [],
   "source": [
    "danon_pd = \\\n",
    "    pd.read_csv(DANON_FULL_PATH)\\\n",
    "    .rename(columns={'txId': 'anon_transaction_hash', \n",
    "                     'transaction': 'transaction_hash'})\n",
    "\n",
    "danon_df = \\\n",
    "    spark.createDataFrame(danon_pd)\\\n",
    "    .select(F.col('anon_transaction_hash').cast('string'), \n",
    "            F.col('transaction_hash').cast('string'))\n",
    "\n",
    "danon_df.printSchema()"
   ]
  },
  {
   "cell_type": "code",
   "execution_count": null,
   "metadata": {},
   "outputs": [],
   "source": []
  },
  {
   "cell_type": "markdown",
   "metadata": {},
   "source": [
    "## 3. EXPORT DATA"
   ]
  },
  {
   "cell_type": "code",
   "execution_count": null,
   "metadata": {
    "scrolled": true
   },
   "outputs": [],
   "source": [
    "features_df \\\n",
    "    .write.format('bigquery') \\\n",
    "    .option('table', FEATURES_FULL_TABLENAME) \\\n",
    "    .option(\"temporaryGcsBucket\", BUCKET_NAME) \\\n",
    "    .save()"
   ]
  },
  {
   "cell_type": "code",
   "execution_count": null,
   "metadata": {},
   "outputs": [],
   "source": [
    "classes_df \\\n",
    "    .write.format('bigquery') \\\n",
    "    .option('table', CLASSES_FULL_TABLENAME) \\\n",
    "    .option(\"temporaryGcsBucket\", BUCKET_NAME) \\\n",
    "    .save()"
   ]
  },
  {
   "cell_type": "code",
   "execution_count": null,
   "metadata": {},
   "outputs": [],
   "source": [
    "edges_df \\\n",
    "    .write.format('bigquery') \\\n",
    "    .option('table', EDGES_FULL_TABLENAME) \\\n",
    "    .option(\"temporaryGcsBucket\", BUCKET_NAME) \\\n",
    "    .save()"
   ]
  },
  {
   "cell_type": "code",
   "execution_count": null,
   "metadata": {},
   "outputs": [],
   "source": [
    "danon_df \\\n",
    "    .write.format('bigquery') \\\n",
    "    .option('table', DANON_FULL_TABLENAME) \\\n",
    "    .option(\"temporaryGcsBucket\", BUCKET_NAME) \\\n",
    "    .save()"
   ]
  },
  {
   "cell_type": "code",
   "execution_count": null,
   "metadata": {},
   "outputs": [],
   "source": []
  },
  {
   "cell_type": "code",
   "execution_count": null,
   "metadata": {},
   "outputs": [],
   "source": []
  }
 ],
 "metadata": {
  "kernelspec": {
   "display_name": "p_ks_crypto",
   "language": "python",
   "name": "p_ks_crypto"
  },
  "language_info": {
   "codemirror_mode": {
    "name": "ipython",
    "version": 3
   },
   "file_extension": ".py",
   "mimetype": "text/x-python",
   "name": "python",
   "nbconvert_exporter": "python",
   "pygments_lexer": "ipython3",
   "version": "3.7.4"
  }
 },
 "nbformat": 4,
 "nbformat_minor": 2
}
